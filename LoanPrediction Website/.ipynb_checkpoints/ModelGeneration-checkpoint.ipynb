{
 "cells": [
  {
   "cell_type": "code",
   "execution_count": 134,
   "metadata": {
    "colab": {
     "base_uri": "https://localhost:8080/",
     "height": 303
    },
    "id": "1j_U5AAAUZtW",
    "outputId": "fe147906-39f5-47d3-a51e-dd59481b585e"
   },
   "outputs": [
    {
     "name": "stdout",
     "output_type": "stream",
     "text": [
      "Collecting xgboost==1.3.3\n",
      "\u001b[?25l  Downloading https://files.pythonhosted.org/packages/2e/57/bf5026701c384decd2b995eb39d86587a103ba4eb26f8a9b1811db0896d3/xgboost-1.3.3-py3-none-manylinux2010_x86_64.whl (157.5MB)\n",
      "\u001b[K     |████████████████████████████████| 157.5MB 80kB/s \n",
      "\u001b[?25hRequirement already satisfied: scipy in /usr/local/lib/python3.7/dist-packages (from xgboost==1.3.3) (1.4.1)\n",
      "Requirement already satisfied: numpy in /usr/local/lib/python3.7/dist-packages (from xgboost==1.3.3) (1.19.5)\n",
      "Installing collected packages: xgboost\n",
      "  Found existing installation: xgboost 0.90\n",
      "    Uninstalling xgboost-0.90:\n",
      "      Successfully uninstalled xgboost-0.90\n",
      "Successfully installed xgboost-1.3.3\n"
     ]
    },
    {
     "data": {
      "application/vnd.colab-display-data+json": {
       "pip_warning": {
        "packages": [
         "xgboost"
        ]
       }
      }
     },
     "metadata": {
      "tags": []
     },
     "output_type": "display_data"
    }
   ],
   "source": [
    "!pip install xgboost==1.3.3"
   ]
  },
  {
   "cell_type": "code",
   "execution_count": 24,
   "metadata": {
    "id": "CGoVaK5HURXg"
   },
   "outputs": [],
   "source": [
    "#Importing necessary packages in Python \n",
    "%matplotlib inline \n",
    "import matplotlib.pyplot as plt \n",
    "\n",
    "import numpy as np ; np.random.seed(sum(map(ord, \"aesthetics\")))\n",
    "import pandas as pd\n",
    "\n",
    "from sklearn.datasets import make_classification \n",
    "#from sklearn.learning_curve import learning_curve \n",
    "#from sklearn.cross_validation import train_test_split \n",
    "#from sklearn.grid_search import GridSearchCV\n",
    "#from sklearn.cross_validation import ShuffleSplit\n",
    "from sklearn.metrics import classification_report,confusion_matrix, roc_curve, roc_auc_score, auc, accuracy_score\n",
    "from sklearn.model_selection import ShuffleSplit,train_test_split, cross_val_score, GridSearchCV\n",
    "from sklearn.preprocessing import OneHotEncoder, LabelEncoder, label_binarize, StandardScaler, MinMaxScaler\n",
    "\n",
    "import seaborn \n",
    "seaborn.set_context('notebook') \n",
    "seaborn.set_style(style='darkgrid')\n",
    "\n",
    "from pprint import pprint "
   ]
  },
  {
   "cell_type": "code",
   "execution_count": 25,
   "metadata": {
    "id": "sExrdf4SUR-r"
   },
   "outputs": [],
   "source": [
    "data =  pd.read_csv(\"german_credit.csv\",index_col=0)\n",
    "data = data.reset_index()"
   ]
  },
  {
   "cell_type": "code",
   "execution_count": 26,
   "metadata": {
    "id": "_qEclgxLUWZi"
   },
   "outputs": [],
   "source": [
    "data = data.rename(columns={\"default\": \"classification\"})\n"
   ]
  },
  {
   "cell_type": "code",
   "execution_count": 27,
   "metadata": {
    "colab": {
     "base_uri": "https://localhost:8080/"
    },
    "id": "Z-YThF3OUg5Q",
    "outputId": "4bab351b-3835-4907-920b-3937380a42ae"
   },
   "outputs": [
    {
     "data": {
      "text/plain": [
       "1    700\n",
       "0    300\n",
       "Name: classification, dtype: int64"
      ]
     },
     "execution_count": 27,
     "metadata": {
      "tags": []
     },
     "output_type": "execute_result"
    }
   ],
   "source": [
    "# Binarize the y output for easier use of e.g. ROC curves -> 0 = 'bad' credit; 1 = 'good' credit\n",
    "data.classification.replace([1,0], [0,1], inplace=True)\n",
    "# Print number of 'good' credits (should be 700) and 'bad credits (should be 300)\n",
    "data.classification.value_counts()"
   ]
  },
  {
   "cell_type": "code",
   "execution_count": 28,
   "metadata": {
    "id": "rOonw0XbpuAr"
   },
   "outputs": [],
   "source": [
    "catvars = ['account_check_status', 'credit_history', 'purpose', 'savings', 'present_emp_since',\n",
    "           'personal_status_sex', 'other_debtors', 'property', 'other_installment_plans', 'housing', 'job', \n",
    "           'telephone', 'foreign_worker']"
   ]
  },
  {
   "cell_type": "code",
   "execution_count": 29,
   "metadata": {
    "colab": {
     "base_uri": "https://localhost:8080/"
    },
    "id": "F02wl8zkpwG5",
    "outputId": "f8085cd8-3700-48ff-94c7-e63d29df1c9a"
   },
   "outputs": [
    {
     "name": "stdout",
     "output_type": "stream",
     "text": [
      "{1: '< 0 DM', 0: '0 <= ... < 200 DM', 3: 'no checking account', 2: '>= 200 DM / salary assignments for at least 1 year'}\n",
      "{1: 'critical account/ other credits existing (not at this bank)', 3: 'existing credits paid back duly till now', 2: 'delay in paying off in the past', 4: 'no credits taken/ all credits paid back duly', 0: 'all credits at this bank paid back duly'}\n",
      "{4: 'domestic appliances', 0: '(vacation - does not exist?)', 7: 'radio/television', 2: 'car (new)', 3: 'car (used)', 1: 'business', 8: 'repairs', 5: 'education', 6: 'furniture/equipment', 9: 'retraining'}\n",
      "{4: 'unknown/ no savings account', 1: '... < 100 DM', 3: '500 <= ... < 1000 DM ', 0: '.. >= 1000 DM ', 2: '100 <= ... < 500 DM'}\n",
      "{0: '.. >= 7 years', 2: '1 <= ... < 4 years', 3: '4 <= ... < 7 years', 4: 'unemployed', 1: '... < 1 year '}\n",
      "{3: 'male : single', 0: 'female : divorced/separated/married', 1: 'male : divorced/separated', 2: 'male : married/widowed'}\n",
      "{2: 'none', 1: 'guarantor', 0: 'co-applicant'}\n",
      "{2: 'real estate', 0: 'if not A121 : building society savings agreement/ life insurance', 3: 'unknown / no property', 1: 'if not A121/A122 : car or other, not in attribute 6'}\n",
      "{1: 'none', 0: 'bank', 2: 'stores'}\n",
      "{1: 'own', 0: 'for free', 2: 'rent'}\n",
      "{1: 'skilled employee / official', 3: 'unskilled - resident', 0: 'management/ self-employed/ highly qualified employee/ officer', 2: 'unemployed/ unskilled - non-resident'}\n",
      "{1: 'yes, registered under the customers name ', 0: 'none'}\n",
      "{1: 'yes', 0: 'no'}\n"
     ]
    }
   ],
   "source": [
    "for i in catvars:\n",
    "  print(dict( zip( data[i].astype('category').cat.codes, data[i] ) ))\n",
    "  data[i] = data[i].astype('category').cat.codes"
   ]
  },
  {
   "cell_type": "code",
   "execution_count": 30,
   "metadata": {
    "id": "e2jXekG2UqVP"
   },
   "outputs": [],
   "source": [
    "data.loc[(data['account_check_status'] == 0) & (data['job'] == 2),'classification']=0\n",
    "data.loc[(data['savings'] == 2) & (data['job'] == 3),'classification']=0\n",
    "data.loc[(data['job'] == 2) & (data['account_check_status'] == 1),'classification']=0\n"
   ]
  },
  {
   "cell_type": "code",
   "execution_count": 31,
   "metadata": {
    "id": "bMFbxXDOUi2t"
   },
   "outputs": [],
   "source": [
    "X = data.drop('classification', axis=1)\n",
    "y = data['classification']\n"
   ]
  },
  {
   "cell_type": "code",
   "execution_count": 32,
   "metadata": {
    "colab": {
     "base_uri": "https://localhost:8080/"
    },
    "id": "Ko0puLB0PWqf",
    "outputId": "6c64c456-151e-470b-e86d-90fe0b7f1edb"
   },
   "outputs": [
    {
     "name": "stdout",
     "output_type": "stream",
     "text": [
      "{0: 677, 1: 677}\n"
     ]
    },
    {
     "name": "stderr",
     "output_type": "stream",
     "text": [
      "/usr/local/lib/python3.7/dist-packages/sklearn/utils/deprecation.py:87: FutureWarning: Function safe_indexing is deprecated; safe_indexing is deprecated in version 0.22 and will be removed in version 0.24.\n",
      "  warnings.warn(msg, category=FutureWarning)\n"
     ]
    }
   ],
   "source": [
    "from imblearn.over_sampling import SMOTE\n",
    "\n",
    "oversample = SMOTE()\n",
    "X, y = oversample.fit_resample(X, y)\n",
    "\n",
    "unique, counts = np.unique(y, return_counts=True)\n",
    "print(dict(zip(unique, counts)))"
   ]
  },
  {
   "cell_type": "code",
   "execution_count": 33,
   "metadata": {
    "id": "doE9mnJxWvux"
   },
   "outputs": [],
   "source": [
    "X_train, X_test, y_train, y_test = train_test_split(X,y,test_size=0.2, random_state=1)"
   ]
  },
  {
   "cell_type": "code",
   "execution_count": 50,
   "metadata": {
    "colab": {
     "base_uri": "https://localhost:8080/"
    },
    "id": "I04ivPj5aGJ5",
    "outputId": "d6c7ad2e-9a51-40a5-8735-28b5841d2b7a"
   },
   "outputs": [
    {
     "name": "stderr",
     "output_type": "stream",
     "text": [
      "/usr/local/lib/python3.7/dist-packages/xgboost/sklearn.py:888: UserWarning: The use of label encoder in XGBClassifier is deprecated and will be removed in a future release. To remove this warning, do the following: 1) Pass option use_label_encoder=False when constructing XGBClassifier object; and 2) Encode your labels (y) as integers starting with 0, i.e. 0, 1, 2, ..., [num_class - 1].\n",
      "  warnings.warn(label_encoder_deprecation_msg, UserWarning)\n"
     ]
    },
    {
     "name": "stdout",
     "output_type": "stream",
     "text": [
      "[17:16:20] WARNING: ../src/learner.cc:1061: Starting in XGBoost 1.3.0, the default evaluation metric used with the objective 'binary:logistic' was changed from 'error' to 'logloss'. Explicitly set eval_metric if you'd like to restore the old behavior.\n",
      "[17:16:25] WARNING: ../src/learner.cc:1061: Starting in XGBoost 1.3.0, the default evaluation metric used with the objective 'binary:logistic' was changed from 'error' to 'logloss'. Explicitly set eval_metric if you'd like to restore the old behavior.\n"
     ]
    },
    {
     "data": {
      "text/plain": [
       "XGBClassifier(base_score=0.5, booster='gbtree', colsample_bylevel=1,\n",
       "              colsample_bynode=1, colsample_bytree=0.7, gamma=0, gpu_id=-1,\n",
       "              importance_type='gain', interaction_constraints='',\n",
       "              learning_rate=0.005, max_delta_step=0, max_depth=8,\n",
       "              min_child_weight=3, missing=nan, monotone_constraints='()',\n",
       "              n_estimators=3000, n_jobs=-1, num_parallel_tree=1,\n",
       "              objective='binary:logistic', random_state=0, reg_alpha=0,\n",
       "              reg_lambda=1, scale_pos_weight=1, subsample=0.555,\n",
       "              tree_method='exact', use_label_encoder=True,\n",
       "              validate_parameters=1, verbosity=None)"
      ]
     },
     "execution_count": 50,
     "metadata": {
      "tags": []
     },
     "output_type": "execute_result"
    }
   ],
   "source": [
    "import xgboost as xgb\n",
    "from xgboost import XGBClassifier\n",
    "params={\n",
    "    'n_estimators':3000,\n",
    "    'objective': 'binary:logistic',\n",
    "    'learning_rate': 0.005,\n",
    "    #'gamma':0.01,\n",
    "    'subsample':0.555,\n",
    "    'colsample_bytree':0.7,\n",
    "    'min_child_weight':3,\n",
    "    'max_depth':8,\n",
    "    #'seed':1024,\n",
    "    'n_jobs' : -1\n",
    "}\n",
    "eval_set=[(X_train, y_train), (X_test, y_test)]\n",
    "\n",
    "model = XGBClassifier(**params).\\\n",
    "  fit(X_train, y_train)\n",
    "    \n",
    "#print(model.best_ntree_limit)\n",
    "\n",
    "model.fit(X_train, y_train)"
   ]
  },
  {
   "cell_type": "code",
   "execution_count": 52,
   "metadata": {
    "colab": {
     "base_uri": "https://localhost:8080/",
     "height": 301
    },
    "id": "1DAy2kiEaIWF",
    "outputId": "09c257cd-63fc-464f-dbc4-03e0adf4068c"
   },
   "outputs": [
    {
     "data": {
      "image/png": "[encoded data removed]",
      "text/plain": [
       "<Figure size 432x288 with 1 Axes>"
      ]
     },
     "metadata": {
      "tags": []
     },
     "output_type": "display_data"
    }
   ],
   "source": [
    "# Compute ROC curve and ROC area for each class\n",
    "y_pred = model.predict(X_test)\n",
    "fpr = dict()\n",
    "tpr = dict()\n",
    "roc_auc = dict()\n",
    "fpr, tpr, _ = roc_curve(y_test, y_pred)\n",
    "roc_auc = auc(fpr, tpr)\n",
    "#Plot of a ROC curve\n",
    "plt.figure()\n",
    "lw = 2\n",
    "plt.plot(fpr, tpr, color='darkorange',\n",
    "          label='ROC curve (area = %0.2f)' % roc_auc)\n",
    "plt.plot([0, 1], [0, 1], color='navy', lw=lw, linestyle='--')\n",
    "plt.xlim([0.0, 1.0])\n",
    "plt.ylim([0.0, 1.0])\n",
    "plt.xlabel('False Positive Rate')\n",
    "plt.ylabel('True Positive Rate')\n",
    "plt.title('Receiver operating characteristic')\n",
    "plt.legend(loc=\"upper left\")\n",
    "plt.show()"
   ]
  },
  {
   "cell_type": "code",
   "execution_count": 55,
   "metadata": {
    "id": "zFacvJtvbwT5"
   },
   "outputs": [],
   "source": [
    "import pickle\n",
    "\n",
    "output = open('model.pkl', 'wb')\n",
    "pickle.dump(model, output)\n",
    "output.close()"
   ]
  },
  {
   "cell_type": "code",
   "execution_count": 64,
   "metadata": {
    "colab": {
     "base_uri": "https://localhost:8080/"
    },
    "id": "yb3858Do2CWo",
    "outputId": "0ab112d3-9c17-4b26-b748-dbdc0837ccff"
   },
   "outputs": [
    {
     "data": {
      "text/plain": [
       "['f0',\n",
       " 'f1',\n",
       " 'f2',\n",
       " 'f3',\n",
       " 'f4',\n",
       " 'f5',\n",
       " 'f6',\n",
       " 'f7',\n",
       " 'f8',\n",
       " 'f9',\n",
       " 'f10',\n",
       " 'f11',\n",
       " 'f12',\n",
       " 'f13',\n",
       " 'f14',\n",
       " 'f15',\n",
       " 'f16',\n",
       " 'f17',\n",
       " 'f18',\n",
       " 'f19']"
      ]
     },
     "execution_count": 64,
     "metadata": {
      "tags": []
     },
     "output_type": "execute_result"
    }
   ],
   "source": [
    "model.get_booster().feature_names"
   ]
  }
 ],
 "metadata": {
  "colab": {
   "name": "Untitled6.ipynb",
   "provenance": []
  },
  "kernelspec": {
   "display_name": "Python 3",
   "language": "python",
   "name": "python3"
  },
  "language_info": {
   "codemirror_mode": {
    "name": "ipython",
    "version": 3
   },
   "file_extension": ".py",
   "mimetype": "text/x-python",
   "name": "python",
   "nbconvert_exporter": "python",
   "pygments_lexer": "ipython3",
   "version": "3.7.4"
  }
 },
 "nbformat": 4,
 "nbformat_minor": 1
}
